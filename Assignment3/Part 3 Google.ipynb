{
 "cells": [
  {
   "cell_type": "code",
   "execution_count": 22,
   "metadata": {},
   "outputs": [
    {
     "name": "stdout",
     "output_type": "stream",
     "text": [
      "Collecting google-cloud-language\n",
      "  Using cached https://files.pythonhosted.org/packages/95/03/af29755711f5e30e6228f03083de0b06089c8ea41e4a67a172e7e65daaa4/google_cloud_language-1.1.0-py2.py3-none-any.whl\n",
      "Requirement already up-to-date: google-api-core[grpc]<2.0.0dev,>=0.1.1 in c:\\users\\prshk\\anaconda3\\lib\\site-packages (from google-cloud-language)\n",
      "Requirement already up-to-date: protobuf>=3.4.0 in c:\\users\\prshk\\anaconda3\\lib\\site-packages (from google-api-core[grpc]<2.0.0dev,>=0.1.1->google-cloud-language)\n",
      "Requirement already up-to-date: requests<3.0.0dev,>=2.18.0 in c:\\users\\prshk\\anaconda3\\lib\\site-packages (from google-api-core[grpc]<2.0.0dev,>=0.1.1->google-cloud-language)\n",
      "Requirement already up-to-date: six>=1.10.0 in c:\\users\\prshk\\anaconda3\\lib\\site-packages (from google-api-core[grpc]<2.0.0dev,>=0.1.1->google-cloud-language)\n",
      "Requirement already up-to-date: googleapis-common-protos!=1.5.4,<2.0dev,>=1.5.3 in c:\\users\\prshk\\anaconda3\\lib\\site-packages (from google-api-core[grpc]<2.0.0dev,>=0.1.1->google-cloud-language)\n",
      "Requirement already up-to-date: pytz in c:\\users\\prshk\\anaconda3\\lib\\site-packages (from google-api-core[grpc]<2.0.0dev,>=0.1.1->google-cloud-language)\n",
      "Requirement already up-to-date: google-auth<2.0dev,>=0.4.0 in c:\\users\\prshk\\anaconda3\\lib\\site-packages (from google-api-core[grpc]<2.0.0dev,>=0.1.1->google-cloud-language)\n",
      "Requirement already up-to-date: setuptools>=34.0.0 in c:\\users\\prshk\\anaconda3\\lib\\site-packages (from google-api-core[grpc]<2.0.0dev,>=0.1.1->google-cloud-language)\n",
      "Requirement already up-to-date: grpcio>=1.8.2; extra == \"grpc\" in c:\\users\\prshk\\anaconda3\\lib\\site-packages (from google-api-core[grpc]<2.0.0dev,>=0.1.1->google-cloud-language)\n",
      "Requirement already up-to-date: certifi>=2017.4.17 in c:\\users\\prshk\\anaconda3\\lib\\site-packages (from requests<3.0.0dev,>=2.18.0->google-api-core[grpc]<2.0.0dev,>=0.1.1->google-cloud-language)\n",
      "Requirement already up-to-date: chardet<3.1.0,>=3.0.2 in c:\\users\\prshk\\anaconda3\\lib\\site-packages (from requests<3.0.0dev,>=2.18.0->google-api-core[grpc]<2.0.0dev,>=0.1.1->google-cloud-language)\n",
      "Requirement already up-to-date: idna<2.8,>=2.5 in c:\\users\\prshk\\anaconda3\\lib\\site-packages (from requests<3.0.0dev,>=2.18.0->google-api-core[grpc]<2.0.0dev,>=0.1.1->google-cloud-language)\n",
      "Requirement already up-to-date: urllib3<1.25,>=1.21.1 in c:\\users\\prshk\\anaconda3\\lib\\site-packages (from requests<3.0.0dev,>=2.18.0->google-api-core[grpc]<2.0.0dev,>=0.1.1->google-cloud-language)\n",
      "Requirement already up-to-date: cachetools>=2.0.0 in c:\\users\\prshk\\anaconda3\\lib\\site-packages (from google-auth<2.0dev,>=0.4.0->google-api-core[grpc]<2.0.0dev,>=0.1.1->google-cloud-language)\n",
      "Requirement already up-to-date: rsa>=3.1.4 in c:\\users\\prshk\\anaconda3\\lib\\site-packages (from google-auth<2.0dev,>=0.4.0->google-api-core[grpc]<2.0.0dev,>=0.1.1->google-cloud-language)\n",
      "Requirement already up-to-date: pyasn1-modules>=0.2.1 in c:\\users\\prshk\\anaconda3\\lib\\site-packages (from google-auth<2.0dev,>=0.4.0->google-api-core[grpc]<2.0.0dev,>=0.1.1->google-cloud-language)\n",
      "Requirement already up-to-date: pyasn1>=0.1.3 in c:\\users\\prshk\\anaconda3\\lib\\site-packages (from rsa>=3.1.4->google-auth<2.0dev,>=0.4.0->google-api-core[grpc]<2.0.0dev,>=0.1.1->google-cloud-language)\n",
      "Installing collected packages: google-cloud-language\n",
      "  Found existing installation: google-cloud-language 0.26.1\n",
      "    Uninstalling google-cloud-language-0.26.1:\n",
      "      Successfully uninstalled google-cloud-language-0.26.1\n",
      "Successfully installed google-cloud-language-1.1.0\n"
     ]
    },
    {
     "name": "stderr",
     "output_type": "stream",
     "text": [
      "You are using pip version 9.0.1, however version 18.1 is available.\n",
      "You should consider upgrading via the 'python -m pip install --upgrade pip' command.\n"
     ]
    }
   ],
   "source": [
    "!pip install --upgrade google-cloud-language"
   ]
  },
  {
   "cell_type": "code",
   "execution_count": 1,
   "metadata": {},
   "outputs": [
    {
     "data": {
      "text/html": [
       "<div>\n",
       "<style scoped>\n",
       "    .dataframe tbody tr th:only-of-type {\n",
       "        vertical-align: middle;\n",
       "    }\n",
       "\n",
       "    .dataframe tbody tr th {\n",
       "        vertical-align: top;\n",
       "    }\n",
       "\n",
       "    .dataframe thead th {\n",
       "        text-align: right;\n",
       "    }\n",
       "</style>\n",
       "<table border=\"1\" class=\"dataframe\">\n",
       "  <thead>\n",
       "    <tr style=\"text-align: right;\">\n",
       "      <th></th>\n",
       "      <th>sentiment</th>\n",
       "      <th>text</th>\n",
       "    </tr>\n",
       "  </thead>\n",
       "  <tbody>\n",
       "    <tr>\n",
       "      <th>1</th>\n",
       "      <td>positive</td>\n",
       "      <td>Greetings and welcome to the Microsoft Fiscal ...</td>\n",
       "    </tr>\n",
       "    <tr>\n",
       "      <th>10</th>\n",
       "      <td>positive</td>\n",
       "      <td>technology. Microsoft 365 helps every organiza...</td>\n",
       "    </tr>\n",
       "    <tr>\n",
       "      <th>100</th>\n",
       "      <td>positive</td>\n",
       "      <td>is coming from the line of Walter Pritchard wi...</td>\n",
       "    </tr>\n",
       "    <tr>\n",
       "      <th>101</th>\n",
       "      <td>neutral</td>\n",
       "      <td>we're growing at eye-popping rates right now. ...</td>\n",
       "    </tr>\n",
       "    <tr>\n",
       "      <th>102</th>\n",
       "      <td>positive</td>\n",
       "      <td>the key things that we think about is differen...</td>\n",
       "    </tr>\n",
       "  </tbody>\n",
       "</table>\n",
       "</div>"
      ],
      "text/plain": [
       "    sentiment                                               text\n",
       "1    positive  Greetings and welcome to the Microsoft Fiscal ...\n",
       "10   positive  technology. Microsoft 365 helps every organiza...\n",
       "100  positive  is coming from the line of Walter Pritchard wi...\n",
       "101   neutral  we're growing at eye-popping rates right now. ...\n",
       "102  positive  the key things that we think about is differen..."
      ]
     },
     "execution_count": 1,
     "metadata": {},
     "output_type": "execute_result"
    }
   ],
   "source": [
    "%store -r data\n",
    "data.head()"
   ]
  },
  {
   "cell_type": "code",
   "execution_count": 46,
   "metadata": {},
   "outputs": [],
   "source": [
    "texts = data.text\n",
    "labels = data.sentiment.map(str.lower).map({'positive' : 1, 'neutral' : 0, 'negative' : -1}).map(int)"
   ]
  },
  {
   "cell_type": "code",
   "execution_count": 23,
   "metadata": {},
   "outputs": [],
   "source": [
    "from google.cloud import language_v1"
   ]
  },
  {
   "cell_type": "code",
   "execution_count": 28,
   "metadata": {},
   "outputs": [],
   "source": [
    "client = language_v1.LanguageServiceClient()\n",
    "scores = []\n",
    "for text in texts:\n",
    "    document = {'type': 'PLAIN_TEXT', 'content': text}\n",
    "    annotations = client.analyze_sentiment(document=document)\n",
    "    scores.append(annotations.document_sentiment.score)"
   ]
  },
  {
   "cell_type": "code",
   "execution_count": 35,
   "metadata": {},
   "outputs": [],
   "source": [
    "scores_new = []"
   ]
  },
  {
   "cell_type": "code",
   "execution_count": 50,
   "metadata": {},
   "outputs": [],
   "source": [
    "for i in range(len(scores)):\n",
    "    if scores[i] == 0:\n",
    "        scores_new[i]=0\n",
    "    elif scores[i] > 0:\n",
    "        scores_new[i] = 1\n",
    "    else:\n",
    "        scores_new[i]=-1"
   ]
  },
  {
   "cell_type": "code",
   "execution_count": 54,
   "metadata": {},
   "outputs": [
    {
     "name": "stdout",
     "output_type": "stream",
     "text": [
      "Stored 'labels_gcp' (list)\n"
     ]
    }
   ],
   "source": [
    "labels_gcp = scores_new\n",
    "%store labels_gcp\n",
    "del labels_gcp"
   ]
  },
  {
   "cell_type": "code",
   "execution_count": 52,
   "metadata": {},
   "outputs": [],
   "source": [
    "from sklearn.metrics import confusion_matrix"
   ]
  },
  {
   "cell_type": "code",
   "execution_count": 53,
   "metadata": {},
   "outputs": [
    {
     "data": {
      "text/plain": [
       "array([[  8,  21,  33],\n",
       "       [ 24,  85, 134],\n",
       "       [ 27,  48, 242]], dtype=int64)"
      ]
     },
     "execution_count": 53,
     "metadata": {},
     "output_type": "execute_result"
    }
   ],
   "source": [
    "confusion_matrix(y_pred=scores_new, y_true=labels)"
   ]
  }
 ],
 "metadata": {
  "kernelspec": {
   "display_name": "Python 3",
   "language": "python",
   "name": "python3"
  },
  "language_info": {
   "codemirror_mode": {
    "name": "ipython",
    "version": 3
   },
   "file_extension": ".py",
   "mimetype": "text/x-python",
   "name": "python",
   "nbconvert_exporter": "python",
   "pygments_lexer": "ipython3",
   "version": "3.6.1"
  }
 },
 "nbformat": 4,
 "nbformat_minor": 2
}
