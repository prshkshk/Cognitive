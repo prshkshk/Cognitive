{
 "cells": [
  {
   "cell_type": "code",
   "execution_count": 2,
   "metadata": {},
   "outputs": [
    {
     "name": "stdout",
     "output_type": "stream",
     "text": [
      "Collecting watson-developer-cloud>=2.4.1\n",
      "  Downloading https://files.pythonhosted.org/packages/77/3c/f1799e4757e8533b4a65a19345b3f52d892be5d9ffa471f9615bb5eac017/watson-developer-cloud-2.4.4.tar.gz (248kB)\n",
      "Requirement already up-to-date: requests<3.0,>=2.0 in c:\\users\\prshk\\anaconda3\\lib\\site-packages (from watson-developer-cloud>=2.4.1)\n",
      "Collecting python_dateutil>=2.5.3 (from watson-developer-cloud>=2.4.1)\n",
      "  Downloading https://files.pythonhosted.org/packages/74/68/d87d9b36af36f44254a8d512cbfc48369103a3b9e474be9bdfe536abfc45/python_dateutil-2.7.5-py2.py3-none-any.whl (225kB)\n",
      "Collecting websocket-client==0.47.0 (from watson-developer-cloud>=2.4.1)\n",
      "  Downloading https://files.pythonhosted.org/packages/9d/fb/f51a03e232e00d6c504dfe815aed090c894ba3f8d3f7fd9612f3e227bf24/websocket_client-0.47.0-py2.py3-none-any.whl (200kB)\n",
      "Requirement already up-to-date: urllib3<1.25,>=1.21.1 in c:\\users\\prshk\\anaconda3\\lib\\site-packages (from requests<3.0,>=2.0->watson-developer-cloud>=2.4.1)\n",
      "Requirement already up-to-date: idna<2.8,>=2.5 in c:\\users\\prshk\\anaconda3\\lib\\site-packages (from requests<3.0,>=2.0->watson-developer-cloud>=2.4.1)\n",
      "Requirement already up-to-date: certifi>=2017.4.17 in c:\\users\\prshk\\anaconda3\\lib\\site-packages (from requests<3.0,>=2.0->watson-developer-cloud>=2.4.1)\n",
      "Requirement already up-to-date: chardet<3.1.0,>=3.0.2 in c:\\users\\prshk\\anaconda3\\lib\\site-packages (from requests<3.0,>=2.0->watson-developer-cloud>=2.4.1)\n",
      "Requirement already up-to-date: six>=1.5 in c:\\users\\prshk\\anaconda3\\lib\\site-packages (from python_dateutil>=2.5.3->watson-developer-cloud>=2.4.1)\n",
      "Building wheels for collected packages: watson-developer-cloud\n",
      "  Running setup.py bdist_wheel for watson-developer-cloud: started\n",
      "  Running setup.py bdist_wheel for watson-developer-cloud: finished with status 'done'\n",
      "  Stored in directory: C:\\Users\\prshk\\AppData\\Local\\pip\\Cache\\wheels\\36\\21\\38\\6eaa2c266b1ac5ce6acb09c13766385c4169665dd9c8b3bd35\n",
      "Successfully built watson-developer-cloud\n",
      "Installing collected packages: python-dateutil, websocket-client, watson-developer-cloud\n",
      "  Found existing installation: python-dateutil 2.6.1\n",
      "    Uninstalling python-dateutil-2.6.1:\n",
      "      Successfully uninstalled python-dateutil-2.6.1\n",
      "Successfully installed python-dateutil-2.7.5 watson-developer-cloud-2.4.4 websocket-client-0.47.0\n"
     ]
    },
    {
     "name": "stderr",
     "output_type": "stream",
     "text": [
      "You are using pip version 9.0.1, however version 18.1 is available.\n",
      "You should consider upgrading via the 'python -m pip install --upgrade pip' command.\n"
     ]
    }
   ],
   "source": [
    "!pip install --upgrade \"watson-developer-cloud>=2.4.1\""
   ]
  },
  {
   "cell_type": "code",
   "execution_count": 51,
   "metadata": {
    "collapsed": true
   },
   "outputs": [],
   "source": [
    "import json\n",
    "from watson_developer_cloud import NaturalLanguageUnderstandingV1\n",
    "from watson_developer_cloud.natural_language_understanding_v1 import Features, SentimentOptions\n",
    "import pandas as pd"
   ]
  },
  {
   "cell_type": "code",
   "execution_count": 10,
   "metadata": {
    "collapsed": true
   },
   "outputs": [],
   "source": [
    "natural_language_understanding = NaturalLanguageUnderstandingV1(\n",
    "    version='2018-03-16',\n",
    "    url='https://gateway-wdc.watsonplatform.net/natural-language-understanding/api', iam_apikey='tSs0zP5TaYGOmvYuaR8gmYkzxbnG7DBmUK2VcMzwjPDA'\n",
    ")"
   ]
  },
  {
   "cell_type": "code",
   "execution_count": 18,
   "metadata": {},
   "outputs": [
    {
     "data": {
      "text/html": [
       "<div>\n",
       "<style scoped>\n",
       "    .dataframe tbody tr th:only-of-type {\n",
       "        vertical-align: middle;\n",
       "    }\n",
       "\n",
       "    .dataframe tbody tr th {\n",
       "        vertical-align: top;\n",
       "    }\n",
       "\n",
       "    .dataframe thead th {\n",
       "        text-align: right;\n",
       "    }\n",
       "</style>\n",
       "<table border=\"1\" class=\"dataframe\">\n",
       "  <thead>\n",
       "    <tr style=\"text-align: right;\">\n",
       "      <th></th>\n",
       "      <th>sentiment</th>\n",
       "      <th>text</th>\n",
       "    </tr>\n",
       "  </thead>\n",
       "  <tbody>\n",
       "    <tr>\n",
       "      <th>1</th>\n",
       "      <td>positive</td>\n",
       "      <td>Greetings and welcome to the Microsoft Fiscal ...</td>\n",
       "    </tr>\n",
       "    <tr>\n",
       "      <th>10</th>\n",
       "      <td>positive</td>\n",
       "      <td>technology. Microsoft 365 helps every organiza...</td>\n",
       "    </tr>\n",
       "    <tr>\n",
       "      <th>100</th>\n",
       "      <td>positive</td>\n",
       "      <td>is coming from the line of Walter Pritchard wi...</td>\n",
       "    </tr>\n",
       "    <tr>\n",
       "      <th>101</th>\n",
       "      <td>neutral</td>\n",
       "      <td>we're growing at eye-popping rates right now. ...</td>\n",
       "    </tr>\n",
       "    <tr>\n",
       "      <th>102</th>\n",
       "      <td>positive</td>\n",
       "      <td>the key things that we think about is differen...</td>\n",
       "    </tr>\n",
       "  </tbody>\n",
       "</table>\n",
       "</div>"
      ],
      "text/plain": [
       "    sentiment                                               text\n",
       "1    positive  Greetings and welcome to the Microsoft Fiscal ...\n",
       "10   positive  technology. Microsoft 365 helps every organiza...\n",
       "100  positive  is coming from the line of Walter Pritchard wi...\n",
       "101   neutral  we're growing at eye-popping rates right now. ...\n",
       "102  positive  the key things that we think about is differen..."
      ]
     },
     "execution_count": 18,
     "metadata": {},
     "output_type": "execute_result"
    }
   ],
   "source": [
    "%store -r data\n",
    "data.head()"
   ]
  },
  {
   "cell_type": "code",
   "execution_count": 43,
   "metadata": {
    "collapsed": true
   },
   "outputs": [],
   "source": [
    "texts = data.text\n",
    "labels = data.sentiment.map(str.lower).map({'positive' : 1, 'neutral' : 0, 'negative' : -1}).map(int)"
   ]
  },
  {
   "cell_type": "code",
   "execution_count": 38,
   "metadata": {
    "collapsed": true
   },
   "outputs": [],
   "source": [
    "pred_labels = []\n",
    "for text in texts:\n",
    "    response = natural_language_understanding.analyze(features=Features(sentiment=SentimentOptions()),text = text)\n",
    "    pred_labels.append(response.get_result()['sentiment']['document']['label'])"
   ]
  },
  {
   "cell_type": "code",
   "execution_count": 54,
   "metadata": {},
   "outputs": [],
   "source": [
    "labels_new = pd.Series(pred_labels).map({'positive' : 1, 'neutral' : 0, 'negative' : -1}).map(int)"
   ]
  },
  {
   "cell_type": "code",
   "execution_count": 56,
   "metadata": {},
   "outputs": [
    {
     "name": "stdout",
     "output_type": "stream",
     "text": [
      "Stored 'labels_ibm' (Series)\n"
     ]
    }
   ],
   "source": [
    "labels_ibm=labels_new\n",
    "%store labels_ibm\n",
    "del labels_ibm"
   ]
  },
  {
   "cell_type": "code",
   "execution_count": 46,
   "metadata": {},
   "outputs": [],
   "source": [
    "from sklearn.metrics import confusion_matrix"
   ]
  },
  {
   "cell_type": "code",
   "execution_count": 55,
   "metadata": {},
   "outputs": [
    {
     "data": {
      "text/plain": [
       "array([[ 18,   0,  44],\n",
       "       [ 17,  20, 206],\n",
       "       [ 25,   1, 291]], dtype=int64)"
      ]
     },
     "execution_count": 55,
     "metadata": {},
     "output_type": "execute_result"
    }
   ],
   "source": [
    "confusion_matrix(y_pred=labels_new, y_true=labels)"
   ]
  },
  {
   "cell_type": "code",
   "execution_count": 62,
   "metadata": {},
   "outputs": [],
   "source": [
    "tesla = pd.read_json('teslaQ3.json')"
   ]
  },
  {
   "cell_type": "code",
   "execution_count": 78,
   "metadata": {},
   "outputs": [],
   "source": [
    "texts = tesla.text\n",
    "labels = tesla.sentiment.map(str.lower).map({'positive' : 1, 'neutral' : 0, 'negative' : -1}).fillna(1).map(int)"
   ]
  },
  {
   "cell_type": "code",
   "execution_count": 69,
   "metadata": {},
   "outputs": [],
   "source": [
    "pred_labels = []\n",
    "for text in texts:\n",
    "    response = natural_language_understanding.analyze(features=Features(sentiment=SentimentOptions()),text = text)\n",
    "    pred_labels.append(response.get_result()['sentiment']['document']['label'])"
   ]
  },
  {
   "cell_type": "code",
   "execution_count": 70,
   "metadata": {
    "collapsed": true
   },
   "outputs": [],
   "source": [
    "labels_new = pd.Series(pred_labels).map({'positive' : 1, 'neutral' : 0, 'negative' : -1}).map(int)"
   ]
  },
  {
   "cell_type": "code",
   "execution_count": 79,
   "metadata": {},
   "outputs": [
    {
     "data": {
      "text/plain": [
       "array([[ 1,  0,  6],\n",
       "       [21,  1, 73],\n",
       "       [ 4,  0, 43]], dtype=int64)"
      ]
     },
     "execution_count": 79,
     "metadata": {},
     "output_type": "execute_result"
    }
   ],
   "source": [
    "confusion_matrix(y_pred=labels_new, y_true=labels)"
   ]
  }
 ],
 "metadata": {
  "kernelspec": {
   "display_name": "Python 3",
   "language": "python",
   "name": "python3"
  },
  "language_info": {
   "codemirror_mode": {
    "name": "ipython",
    "version": 3
   },
   "file_extension": ".py",
   "mimetype": "text/x-python",
   "name": "python",
   "nbconvert_exporter": "python",
   "pygments_lexer": "ipython3",
   "version": "3.6.1"
  }
 },
 "nbformat": 4,
 "nbformat_minor": 2
}
